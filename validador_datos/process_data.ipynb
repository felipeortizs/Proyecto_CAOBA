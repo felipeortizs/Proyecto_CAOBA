{
 "cells": [
  {
   "cell_type": "code",
   "execution_count": 1,
   "metadata": {},
   "outputs": [],
   "source": [
    "import os\n",
    "import pandas as pd\n",
    "import json"
   ]
  },
  {
   "cell_type": "code",
   "execution_count": 3,
   "metadata": {},
   "outputs": [],
   "source": [
    "folder_path = 'modelos-digital'\n",
    "files = os.listdir(folder_path)"
   ]
  },
  {
   "cell_type": "code",
   "execution_count": 8,
   "metadata": {},
   "outputs": [],
   "source": [
    "keys = [\"dentro_de_origen\", \"consistencia_de_origen\"]\n",
    "\n",
    "jsons_data = {key: [] for key in keys}\n",
    "\n",
    "for file_name in files:\n",
    "    with open(f\"{folder_path}/{file_name}\", 'r', encoding='utf-8') as json_file:\n",
    "        data = json.load(json_file)\n",
    "        for key in keys:\n",
    "            jsons_data[key].append(data[key])\n",
    "\n",
    "data = pd.DataFrame(jsons_data)"
   ]
  },
  {
   "cell_type": "code",
   "execution_count": 10,
   "metadata": {},
   "outputs": [
    {
     "data": {
      "text/html": [
       "<div>\n",
       "<style scoped>\n",
       "    .dataframe tbody tr th:only-of-type {\n",
       "        vertical-align: middle;\n",
       "    }\n",
       "\n",
       "    .dataframe tbody tr th {\n",
       "        vertical-align: top;\n",
       "    }\n",
       "\n",
       "    .dataframe thead th {\n",
       "        text-align: right;\n",
       "    }\n",
       "</style>\n",
       "<table border=\"1\" class=\"dataframe\">\n",
       "  <thead>\n",
       "    <tr style=\"text-align: right;\">\n",
       "      <th></th>\n",
       "      <th>dentro_de_origen</th>\n",
       "      <th>consistencia_de_origen</th>\n",
       "    </tr>\n",
       "  </thead>\n",
       "  <tbody>\n",
       "    <tr>\n",
       "      <th>count</th>\n",
       "      <td>30.0</td>\n",
       "      <td>30.000000</td>\n",
       "    </tr>\n",
       "    <tr>\n",
       "      <th>mean</th>\n",
       "      <td>0.0</td>\n",
       "      <td>0.833333</td>\n",
       "    </tr>\n",
       "    <tr>\n",
       "      <th>std</th>\n",
       "      <td>0.0</td>\n",
       "      <td>0.379049</td>\n",
       "    </tr>\n",
       "    <tr>\n",
       "      <th>min</th>\n",
       "      <td>0.0</td>\n",
       "      <td>0.000000</td>\n",
       "    </tr>\n",
       "    <tr>\n",
       "      <th>25%</th>\n",
       "      <td>0.0</td>\n",
       "      <td>1.000000</td>\n",
       "    </tr>\n",
       "    <tr>\n",
       "      <th>50%</th>\n",
       "      <td>0.0</td>\n",
       "      <td>1.000000</td>\n",
       "    </tr>\n",
       "    <tr>\n",
       "      <th>75%</th>\n",
       "      <td>0.0</td>\n",
       "      <td>1.000000</td>\n",
       "    </tr>\n",
       "    <tr>\n",
       "      <th>max</th>\n",
       "      <td>0.0</td>\n",
       "      <td>1.000000</td>\n",
       "    </tr>\n",
       "  </tbody>\n",
       "</table>\n",
       "</div>"
      ],
      "text/plain": [
       "       dentro_de_origen  consistencia_de_origen\n",
       "count              30.0               30.000000\n",
       "mean                0.0                0.833333\n",
       "std                 0.0                0.379049\n",
       "min                 0.0                0.000000\n",
       "25%                 0.0                1.000000\n",
       "50%                 0.0                1.000000\n",
       "75%                 0.0                1.000000\n",
       "max                 0.0                1.000000"
      ]
     },
     "execution_count": 10,
     "metadata": {},
     "output_type": "execute_result"
    }
   ],
   "source": [
    "data.describe()"
   ]
  },
  {
   "cell_type": "code",
   "execution_count": 15,
   "metadata": {},
   "outputs": [
    {
     "name": "stdout",
     "output_type": "stream",
     "text": [
      "dentro_de_origen 0.0\n",
      "consistencia_de_origen 0.8333333333333334\n"
     ]
    }
   ],
   "source": [
    "for key in keys:\n",
    "    non_zero = data[data[key] > 0]\n",
    "    print(key, non_zero[key].count() / len(data))"
   ]
  },
  {
   "cell_type": "code",
   "execution_count": 16,
   "metadata": {},
   "outputs": [],
   "source": [
    "folder_path = 'ortoimage'\n",
    "files = os.listdir(folder_path)"
   ]
  },
  {
   "cell_type": "code",
   "execution_count": 17,
   "metadata": {},
   "outputs": [],
   "source": [
    "keys = [\"dentro_de_origen\", \"consistencia_de_origen\", \"bandas\", \"radiometria\"]\n",
    "\n",
    "jsons_data = {key: [] for key in keys}\n",
    "\n",
    "for file_name in files:\n",
    "    with open(f\"{folder_path}/{file_name}\", 'r', encoding='utf-8') as json_file:\n",
    "        data = json.load(json_file)\n",
    "        for key in keys:\n",
    "            jsons_data[key].append(data[key])\n",
    "\n",
    "data = pd.DataFrame(jsons_data)"
   ]
  },
  {
   "cell_type": "code",
   "execution_count": 18,
   "metadata": {},
   "outputs": [
    {
     "data": {
      "text/html": [
       "<div>\n",
       "<style scoped>\n",
       "    .dataframe tbody tr th:only-of-type {\n",
       "        vertical-align: middle;\n",
       "    }\n",
       "\n",
       "    .dataframe tbody tr th {\n",
       "        vertical-align: top;\n",
       "    }\n",
       "\n",
       "    .dataframe thead th {\n",
       "        text-align: right;\n",
       "    }\n",
       "</style>\n",
       "<table border=\"1\" class=\"dataframe\">\n",
       "  <thead>\n",
       "    <tr style=\"text-align: right;\">\n",
       "      <th></th>\n",
       "      <th>dentro_de_origen</th>\n",
       "      <th>consistencia_de_origen</th>\n",
       "      <th>bandas</th>\n",
       "      <th>radiometria</th>\n",
       "    </tr>\n",
       "  </thead>\n",
       "  <tbody>\n",
       "    <tr>\n",
       "      <th>count</th>\n",
       "      <td>11.0</td>\n",
       "      <td>11.000000</td>\n",
       "      <td>11.000000</td>\n",
       "      <td>11.0</td>\n",
       "    </tr>\n",
       "    <tr>\n",
       "      <th>mean</th>\n",
       "      <td>0.0</td>\n",
       "      <td>0.545455</td>\n",
       "      <td>0.181818</td>\n",
       "      <td>0.0</td>\n",
       "    </tr>\n",
       "    <tr>\n",
       "      <th>std</th>\n",
       "      <td>0.0</td>\n",
       "      <td>0.522233</td>\n",
       "      <td>0.404520</td>\n",
       "      <td>0.0</td>\n",
       "    </tr>\n",
       "    <tr>\n",
       "      <th>min</th>\n",
       "      <td>0.0</td>\n",
       "      <td>0.000000</td>\n",
       "      <td>0.000000</td>\n",
       "      <td>0.0</td>\n",
       "    </tr>\n",
       "    <tr>\n",
       "      <th>25%</th>\n",
       "      <td>0.0</td>\n",
       "      <td>0.000000</td>\n",
       "      <td>0.000000</td>\n",
       "      <td>0.0</td>\n",
       "    </tr>\n",
       "    <tr>\n",
       "      <th>50%</th>\n",
       "      <td>0.0</td>\n",
       "      <td>1.000000</td>\n",
       "      <td>0.000000</td>\n",
       "      <td>0.0</td>\n",
       "    </tr>\n",
       "    <tr>\n",
       "      <th>75%</th>\n",
       "      <td>0.0</td>\n",
       "      <td>1.000000</td>\n",
       "      <td>0.000000</td>\n",
       "      <td>0.0</td>\n",
       "    </tr>\n",
       "    <tr>\n",
       "      <th>max</th>\n",
       "      <td>0.0</td>\n",
       "      <td>1.000000</td>\n",
       "      <td>1.000000</td>\n",
       "      <td>0.0</td>\n",
       "    </tr>\n",
       "  </tbody>\n",
       "</table>\n",
       "</div>"
      ],
      "text/plain": [
       "       dentro_de_origen  consistencia_de_origen     bandas  radiometria\n",
       "count              11.0               11.000000  11.000000         11.0\n",
       "mean                0.0                0.545455   0.181818          0.0\n",
       "std                 0.0                0.522233   0.404520          0.0\n",
       "min                 0.0                0.000000   0.000000          0.0\n",
       "25%                 0.0                0.000000   0.000000          0.0\n",
       "50%                 0.0                1.000000   0.000000          0.0\n",
       "75%                 0.0                1.000000   0.000000          0.0\n",
       "max                 0.0                1.000000   1.000000          0.0"
      ]
     },
     "execution_count": 18,
     "metadata": {},
     "output_type": "execute_result"
    }
   ],
   "source": [
    "data.describe()"
   ]
  },
  {
   "cell_type": "code",
   "execution_count": 20,
   "metadata": {},
   "outputs": [
    {
     "name": "stdout",
     "output_type": "stream",
     "text": [
      "dentro_de_origen 0.0\n",
      "consistencia_de_origen 0.5454545454545454\n",
      "bandas 0.18181818181818182\n",
      "radiometria 0.0\n"
     ]
    }
   ],
   "source": [
    "for key in keys:\n",
    "    non_zero = data[data[key] > 0]\n",
    "    print(key, non_zero[key].count() / len(data))"
   ]
  },
  {
   "cell_type": "code",
   "execution_count": 22,
   "metadata": {},
   "outputs": [],
   "source": [
    "folder_path = 'vector'\n",
    "files = os.listdir(folder_path)"
   ]
  },
  {
   "cell_type": "code",
   "execution_count": 26,
   "metadata": {},
   "outputs": [],
   "source": [
    "keys = [\"valores_nulos\", \"dentro_de_origen\", \"consistencia_de_origen\", \"hueco_en_capa\", \"superposicion\"]\n",
    "\n",
    "jsons_data = {key: [] for key in keys}\n",
    "\n",
    "for file_name in files:\n",
    "    with open(f\"{folder_path}/{file_name}\", 'r', encoding='utf-8') as json_file:\n",
    "        data = json.load(json_file)\n",
    "        for key in keys:\n",
    "            jsons_data[key].append(data[key])\n",
    "\n",
    "data = pd.DataFrame(jsons_data)"
   ]
  },
  {
   "cell_type": "code",
   "execution_count": 27,
   "metadata": {},
   "outputs": [
    {
     "data": {
      "text/html": [
       "<div>\n",
       "<style scoped>\n",
       "    .dataframe tbody tr th:only-of-type {\n",
       "        vertical-align: middle;\n",
       "    }\n",
       "\n",
       "    .dataframe tbody tr th {\n",
       "        vertical-align: top;\n",
       "    }\n",
       "\n",
       "    .dataframe thead th {\n",
       "        text-align: right;\n",
       "    }\n",
       "</style>\n",
       "<table border=\"1\" class=\"dataframe\">\n",
       "  <thead>\n",
       "    <tr style=\"text-align: right;\">\n",
       "      <th></th>\n",
       "      <th>valores_nulos</th>\n",
       "      <th>dentro_de_origen</th>\n",
       "      <th>consistencia_de_origen</th>\n",
       "      <th>hueco_en_capa</th>\n",
       "      <th>superposicion</th>\n",
       "    </tr>\n",
       "  </thead>\n",
       "  <tbody>\n",
       "    <tr>\n",
       "      <th>count</th>\n",
       "      <td>34.000000</td>\n",
       "      <td>34.0</td>\n",
       "      <td>34.000000</td>\n",
       "      <td>34.000000</td>\n",
       "      <td>34.000000</td>\n",
       "    </tr>\n",
       "    <tr>\n",
       "      <th>mean</th>\n",
       "      <td>23.735294</td>\n",
       "      <td>0.0</td>\n",
       "      <td>0.441176</td>\n",
       "      <td>3.000000</td>\n",
       "      <td>0.970588</td>\n",
       "    </tr>\n",
       "    <tr>\n",
       "      <th>std</th>\n",
       "      <td>7.003501</td>\n",
       "      <td>0.0</td>\n",
       "      <td>0.503995</td>\n",
       "      <td>1.792239</td>\n",
       "      <td>0.171499</td>\n",
       "    </tr>\n",
       "    <tr>\n",
       "      <th>min</th>\n",
       "      <td>1.000000</td>\n",
       "      <td>0.0</td>\n",
       "      <td>0.000000</td>\n",
       "      <td>0.000000</td>\n",
       "      <td>0.000000</td>\n",
       "    </tr>\n",
       "    <tr>\n",
       "      <th>25%</th>\n",
       "      <td>20.000000</td>\n",
       "      <td>0.0</td>\n",
       "      <td>0.000000</td>\n",
       "      <td>2.000000</td>\n",
       "      <td>1.000000</td>\n",
       "    </tr>\n",
       "    <tr>\n",
       "      <th>50%</th>\n",
       "      <td>24.000000</td>\n",
       "      <td>0.0</td>\n",
       "      <td>0.000000</td>\n",
       "      <td>3.000000</td>\n",
       "      <td>1.000000</td>\n",
       "    </tr>\n",
       "    <tr>\n",
       "      <th>75%</th>\n",
       "      <td>27.000000</td>\n",
       "      <td>0.0</td>\n",
       "      <td>1.000000</td>\n",
       "      <td>4.000000</td>\n",
       "      <td>1.000000</td>\n",
       "    </tr>\n",
       "    <tr>\n",
       "      <th>max</th>\n",
       "      <td>45.000000</td>\n",
       "      <td>0.0</td>\n",
       "      <td>1.000000</td>\n",
       "      <td>8.000000</td>\n",
       "      <td>1.000000</td>\n",
       "    </tr>\n",
       "  </tbody>\n",
       "</table>\n",
       "</div>"
      ],
      "text/plain": [
       "       valores_nulos  dentro_de_origen  consistencia_de_origen  hueco_en_capa  \\\n",
       "count      34.000000              34.0               34.000000      34.000000   \n",
       "mean       23.735294               0.0                0.441176       3.000000   \n",
       "std         7.003501               0.0                0.503995       1.792239   \n",
       "min         1.000000               0.0                0.000000       0.000000   \n",
       "25%        20.000000               0.0                0.000000       2.000000   \n",
       "50%        24.000000               0.0                0.000000       3.000000   \n",
       "75%        27.000000               0.0                1.000000       4.000000   \n",
       "max        45.000000               0.0                1.000000       8.000000   \n",
       "\n",
       "       superposicion  \n",
       "count      34.000000  \n",
       "mean        0.970588  \n",
       "std         0.171499  \n",
       "min         0.000000  \n",
       "25%         1.000000  \n",
       "50%         1.000000  \n",
       "75%         1.000000  \n",
       "max         1.000000  "
      ]
     },
     "execution_count": 27,
     "metadata": {},
     "output_type": "execute_result"
    }
   ],
   "source": [
    "data.describe()"
   ]
  },
  {
   "cell_type": "code",
   "execution_count": 28,
   "metadata": {},
   "outputs": [
    {
     "name": "stdout",
     "output_type": "stream",
     "text": [
      "valores_nulos 1.0\n",
      "dentro_de_origen 0.0\n",
      "consistencia_de_origen 0.4411764705882353\n",
      "hueco_en_capa 0.8529411764705882\n",
      "superposicion 0.9705882352941176\n"
     ]
    }
   ],
   "source": [
    "for key in keys:\n",
    "    non_zero = data[data[key] > 0]\n",
    "    print(key, non_zero[key].count() / len(data))"
   ]
  }
 ],
 "metadata": {
  "kernelspec": {
   "display_name": "Python 3",
   "language": "python",
   "name": "python3"
  },
  "language_info": {
   "codemirror_mode": {
    "name": "ipython",
    "version": 3
   },
   "file_extension": ".py",
   "mimetype": "text/x-python",
   "name": "python",
   "nbconvert_exporter": "python",
   "pygments_lexer": "ipython3",
   "version": "3.9.20"
  }
 },
 "nbformat": 4,
 "nbformat_minor": 2
}
